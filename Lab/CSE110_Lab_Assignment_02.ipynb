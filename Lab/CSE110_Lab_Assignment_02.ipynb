{
  "cells": [
    {
      "cell_type": "markdown",
      "metadata": {
        "id": "4wbfWEkOSK4T"
      },
      "source": [
        "# CSE110 Assignment 2 \n",
        "\n",
        "This assignment is to guide in solving basic programming problems using loop in Python. \n",
        "\n"
      ]
    },
    {
      "cell_type": "markdown",
      "metadata": {
        "id": "w269kMywSK4V"
      },
      "source": [
        "## Write the code in Python for following problems:\n",
        "\n",
        "**<font color='red'>[MUST MAINTAIN VARIABLE NAMING CONVENTIONS FOR ALL THE TASKS]</font>**\n",
        "\n",
        "### Task 1\n",
        "\n",
        "Write python program, which prints the following sequences of values in loops:\n",
        "\n",
        "a)\t24, 18, 12, 6, 0, -6\\\n",
        "b)\t-10, -5, 0, 5, 10, 15, 20\\\n",
        "c)\t18, 27, 36, 45, 54, 63\\\n",
        "d)\t18,-27, 36,-45,54,-63\n",
        "\n",
        "=====================================================================\n",
        "\n",
        "**Hints(1):** Use a while loop for solving these problems.\n",
        "\n",
        "**Hints(2):** We are already familiar with the print() function. But when we use it to print any value it automatically adds an additional newline after each print statement.\n",
        "\n",
        "For example:\\\n",
        "print(1)\\\n",
        "print(2)\n",
        "\n",
        "Output:\\\n",
        "1\\\n",
        "2\n",
        "\n",
        "=====================================================================\n",
        "\n",
        "To solve this problem, in Python3, we need to add an extra argument (end = \" \") in the print function which tells the program to skip printing the additional newline.\n",
        "\n",
        "For example:\\\n",
        "print(1, end =\" \")\\\n",
        "print(2)\n",
        "\n",
        "Output:(prints the next output right to the previous one)\\\n",
        "12\n",
        "\n",
        "=====================================================================\n",
        "\n",
        "In Task-1(a), the loop counter should be initialized at 24 and the loop should terminate when the loop counter reaches -6. The difference between the first two values is 24-18=6. So the loop counter value is getting decremented by 6 in every iteration.\n",
        "\n",
        "For your understanding task 1(a) code is done for you.\n"
      ]
    },
    {
      "cell_type": "code",
      "execution_count": null,
      "metadata": {
        "id": "H9nuTYCuSK4X",
        "colab": {
          "base_uri": "https://localhost:8080/"
        },
        "outputId": "6ebcecba-7f8d-4d18-df31-c82230b82bbd"
      },
      "outputs": [
        {
          "output_type": "stream",
          "name": "stdout",
          "text": [
            "24,18,12,6,0,-6\n"
          ]
        }
      ],
      "source": [
        "for number in range(24,-7,-6):\n",
        "  if number == -6:\n",
        "    print(number)\n",
        "  else:\n",
        "    print(number, end=\",\")"
      ]
    },
    {
      "cell_type": "code",
      "execution_count": null,
      "metadata": {
        "id": "YWLB_TuLSK4h"
      },
      "outputs": [],
      "source": [
        "for number in range(-10,21,-5):\n",
        "  if number == 20:\n",
        "    print(number)\n",
        "  else:\n",
        "    print(number, end=\",\")"
      ]
    },
    {
      "cell_type": "code",
      "execution_count": null,
      "metadata": {
        "id": "b5blHg8zSK4n",
        "colab": {
          "base_uri": "https://localhost:8080/"
        },
        "outputId": "c23e62f4-9ea8-4087-802b-3130d5d0368d"
      },
      "outputs": [
        {
          "output_type": "stream",
          "name": "stdout",
          "text": [
            "18,27,36,45,54,63\n"
          ]
        }
      ],
      "source": [
        "for number in range(18,64,9):\n",
        "  if number == 63:\n",
        "    print(number)\n",
        "  else:\n",
        "    print(number, end=\",\")"
      ]
    },
    {
      "cell_type": "markdown",
      "metadata": {
        "id": "VlRJZhqVSK4v"
      },
      "source": [
        "**Hints for 1(d):** \n",
        "\n",
        "print(5 * (-1)) gives output -5\\\n",
        "print(\"-\" + str(5)) gives output -5"
      ]
    },
    {
      "cell_type": "code",
      "execution_count": null,
      "metadata": {
        "id": "lA6BDPaaSK4v",
        "colab": {
          "base_uri": "https://localhost:8080/"
        },
        "outputId": "207d4a7e-0400-411e-f3c8-a84451284cc5"
      },
      "outputs": [
        {
          "output_type": "stream",
          "name": "stdout",
          "text": [
            "-18,27,-36,45,-54,63\n"
          ]
        }
      ],
      "source": [
        "count = 0\n",
        "number = 18\n",
        "\n",
        "while count<6:\n",
        "  if (count%2==1):\n",
        "    if number == 63:\n",
        "      print(number)\n",
        "    else:\n",
        "      print(number, end=\",\")\n",
        "    number+=9\n",
        "    count+=1\n",
        "  else:\n",
        "    print(-number, end = \",\")\n",
        "    number+=9\n",
        "    count+=1\n"
      ]
    },
    {
      "cell_type": "markdown",
      "metadata": {
        "id": "fB7DLiLjSK41"
      },
      "source": [
        "====================================================================\\\n",
        "<font color='blue'>\n",
        "All the tasks can be solved using both the \"while loop\" and the \"for loop\". But you need to choose the best looping construct which is the most suitable for solving a particular task.\n",
        "</font>\n",
        "\n",
        "===================================================================="
      ]
    },
    {
      "cell_type": "markdown",
      "metadata": {
        "id": "RGkTLNE8SK43"
      },
      "source": [
        "### Task 2\n",
        "Write a Python code for the following:\n",
        "\n",
        "1)\tAsk the user to enter the name of his favorite car.\\\n",
        "2)\tAsk the user to enter a Number\n",
        "\n",
        "Display the name of the user’s favorite car, the number of times specified in the second step.\n",
        "\n",
        "==========================================================\n",
        "\n",
        "**Example 01:** If the user enters “Toyota” and 20, your program should print the name “Toyota” twenty times.\n",
        "\n",
        "**Input:**\\\n",
        "Toyota\\\n",
        "2\n",
        "\n",
        "**Output:**\\\n",
        "Toyota\\\n",
        "Toyota\n",
        "\n",
        "==========================================================\n",
        "\n",
        "**Example02:** If the user enters “Veyron” and 5, your program should print the name “Veyron” five times.\n",
        "\n",
        "**Input:**\\\n",
        "Veyron\\\n",
        "5\n",
        "\n",
        "**Output:**\\\n",
        "Veyron\\\n",
        "Veyron\\\n",
        "Veyron\\\n",
        "Veyron\\\n",
        "Veyron\n"
      ]
    },
    {
      "cell_type": "code",
      "execution_count": null,
      "metadata": {
        "id": "u5yX33mvSK45",
        "scrolled": true,
        "colab": {
          "base_uri": "https://localhost:8080/"
        },
        "outputId": "c6816727-9eb2-48f1-eaed-99bbcdb40424"
      },
      "outputs": [
        {
          "output_type": "stream",
          "name": "stdout",
          "text": [
            "Audi\n",
            "5\n",
            "Audi\n",
            "Audi\n",
            "Audi\n",
            "Audi\n",
            "Audi\n"
          ]
        }
      ],
      "source": [
        "car_name = input()\n",
        "number = int(input())\n",
        "\n",
        "for count in range(number):\n",
        "  print(car_name)"
      ]
    },
    {
      "cell_type": "markdown",
      "metadata": {
        "id": "xT0l0U35SK5A"
      },
      "source": [
        "### Task 3\n",
        "Write a Python code of a program that adds all numbers that are multiples of **both 7 and 9** up to 600 (including 600).\n",
        "\n",
        "Output: 2835\n"
      ]
    },
    {
      "cell_type": "code",
      "execution_count": null,
      "metadata": {
        "id": "Q6dix8WhSK5B",
        "colab": {
          "base_uri": "https://localhost:8080/"
        },
        "outputId": "b3f20962-41a5-4601-a3a5-71d410647f08"
      },
      "outputs": [
        {
          "output_type": "stream",
          "name": "stdout",
          "text": [
            "2835\n"
          ]
        }
      ],
      "source": [
        "sum=0\n",
        "for count in range (1,601,1):\n",
        "  if (count%7==0) and (count%9==0):\n",
        "    sum+=count\n",
        "  \n",
        "print(sum)\n"
      ]
    },
    {
      "cell_type": "markdown",
      "metadata": {
        "id": "8swUoCy9SK5F"
      },
      "source": [
        "### Task 4\n",
        "Write a Python code of a program that adds all numbers that are multiples of **either 7 or 9** up to 600(including 600). \\\n",
        "Ensure that numbers like 63 are added only once in the sum.\n",
        "\n",
        "Output: 42649\n"
      ]
    },
    {
      "cell_type": "code",
      "execution_count": null,
      "metadata": {
        "id": "pbIA-waFSK5G",
        "colab": {
          "base_uri": "https://localhost:8080/"
        },
        "outputId": "5895432d-d8ea-40b9-e511-dd470e918805"
      },
      "outputs": [
        {
          "output_type": "stream",
          "name": "stdout",
          "text": [
            "42649\n"
          ]
        }
      ],
      "source": [
        "sum=0\n",
        "for count in range (1,601,1):\n",
        "  if (count%7==0) or (count%9==0):\n",
        "    sum+=count\n",
        "  \n",
        "print(sum)"
      ]
    },
    {
      "cell_type": "markdown",
      "metadata": {
        "id": "H3hLyguASK5L"
      },
      "source": [
        "### Task 5\n",
        "Write a Python code of a program that adds all numbers that are multiples of **either 7 or 9 but not both**, up to 600(including 600).\n",
        "\n",
        "Output: 39814\n"
      ]
    },
    {
      "cell_type": "code",
      "execution_count": null,
      "metadata": {
        "id": "LiAvUr1QSK5M",
        "colab": {
          "base_uri": "https://localhost:8080/"
        },
        "outputId": "5c495185-39ee-4047-eb76-7084e8e19830"
      },
      "outputs": [
        {
          "output_type": "stream",
          "name": "stdout",
          "text": [
            "39814\n"
          ]
        }
      ],
      "source": [
        "sum=0\n",
        "for count in range (1,601,1):\n",
        "  if (count%7==0) and (count%9==0):\n",
        "    continue\n",
        "  if (count%7==0) or (count%9==0):\n",
        "    sum+=count\n",
        "  \n",
        "print(sum)"
      ]
    },
    {
      "cell_type": "markdown",
      "metadata": {
        "id": "8SmvPvfaSK5P"
      },
      "source": [
        "### Task 6\n",
        "Write a Python code to displays all the **odd numbers** between 10 and 50.\n",
        "\n",
        "Output: 11 13 15 17 19 21 23 25 27 29 31 33 35 37 39 41 43 45 47 49\n"
      ]
    },
    {
      "cell_type": "code",
      "execution_count": null,
      "metadata": {
        "id": "PJmT9fvuSK5Q",
        "colab": {
          "base_uri": "https://localhost:8080/"
        },
        "outputId": "326d36a9-2bba-4db5-8293-09abcdece856"
      },
      "outputs": [
        {
          "output_type": "stream",
          "name": "stdout",
          "text": [
            "11 13 15 17 19 21 23 25 27 29 31 33 35 37 39 41 43 45 47 49 "
          ]
        }
      ],
      "source": [
        "for number in range(10,51,1):\n",
        "  if (number%2==0):\n",
        "    pass\n",
        "  else:\n",
        "    print(number, end =\" \") "
      ]
    },
    {
      "cell_type": "markdown",
      "metadata": {
        "id": "Nw4dX_MeSK5V"
      },
      "source": [
        "### Task 7\n",
        "Write a Python code that will calculate the **value of y if the expression** of y is as follows (n is the input):  \n",
        "\n",
        "$y = 1^2 - 2^2 +3^2 -4^2 +5^2 .........+ n^2 $\n",
        "\n",
        "\n",
        "==========================================================\n",
        "\n",
        "**Example01:** \n",
        "\n",
        "**Input:**\\\n",
        "10\n",
        "\n",
        "**Output:**\\\n",
        "-55\n",
        "\n",
        "==========================================================\n",
        "\n",
        "**Example02:** \n",
        "\n",
        "**Input:**\\\n",
        "20\n",
        "\n",
        "**Output:**\\\n",
        "-210\n",
        "\n"
      ]
    },
    {
      "cell_type": "code",
      "execution_count": null,
      "metadata": {
        "id": "BbJe-7AuSK5V",
        "colab": {
          "base_uri": "https://localhost:8080/"
        },
        "outputId": "deb79889-507b-4cdd-e6ca-5c642e8403e7"
      },
      "outputs": [
        {
          "output_type": "stream",
          "name": "stdout",
          "text": [
            "10\n",
            "-55\n"
          ]
        }
      ],
      "source": [
        "n = int(input())\n",
        "y = 0\n",
        "for count in range(1,n+1,1):\n",
        "  if (count%2==0):\n",
        "    y-=(count**2)\n",
        "  else:\n",
        "    y+=(count**2)\n",
        "print(y)\n"
      ]
    },
    {
      "cell_type": "markdown",
      "metadata": {
        "id": "SgvBqJ9PSK5l"
      },
      "source": [
        "### Task 8\n",
        "\n",
        "Write a Python code of a program that asks the user to enter ten numbers then display the total and the average of **ONLY** the **odd numbers** among those ten numbers. <font color='red'>[Use of list is completely unnecesary for this task]</font>\n",
        "\n",
        "==========================================================\n",
        "\n",
        "**Example01:** \n",
        "\n",
        "**Input:**\\\n",
        "1\n",
        "\n",
        "2\n",
        "\n",
        "3\n",
        "\n",
        "4\n",
        "\n",
        "5\n",
        "\n",
        "6\n",
        "\n",
        "7\n",
        "\n",
        "8\n",
        "\n",
        "9\n",
        "\n",
        "10\n",
        "\n",
        "**Output:**\n",
        "Total is 25 and Average is 5.0\n",
        "\n",
        "\n",
        "**Explanation:**\n",
        "\n",
        "Total is 25 = (1+3+5+7+9) and Average is 25/5 = 5.0\n",
        "\n",
        "==========================================================\n",
        "\n",
        "\n",
        "**Example02:** \n",
        "\n",
        "**Input:**\\\n",
        "-20\n",
        "\n",
        "3\n",
        "\n",
        "-5\n",
        "\n",
        "40\n",
        "\n",
        "-17\n",
        "\n",
        "9\n",
        "\n",
        "20\n",
        "\n",
        "-8\n",
        "\n",
        "99\n",
        "  \n",
        "-200\n",
        "\n",
        "**Output:**\n",
        "\n",
        "Total is 89 and Average is 17.8\n",
        "\n",
        "\n",
        "**Explanation:**\n",
        "\n",
        "Total is 89 =(3+(-5)+(-17)+9+99) and Average is 89/5 = 17.8\n",
        "\n"
      ]
    },
    {
      "cell_type": "code",
      "execution_count": null,
      "metadata": {
        "id": "c0akirXXSK5m",
        "colab": {
          "base_uri": "https://localhost:8080/"
        },
        "outputId": "8b527413-3cff-47ee-82bf-392c1b356633"
      },
      "outputs": [
        {
          "output_type": "stream",
          "name": "stdout",
          "text": [
            "1\n",
            "2\n",
            "3\n",
            "4\n",
            "5\n",
            "6\n",
            "7\n",
            "8\n",
            "9\n",
            "10\n",
            "Total is 25 and Average is 2.5\n"
          ]
        }
      ],
      "source": [
        "sum = 0\n",
        "list=[None]*10\n",
        "for count in range(10):\n",
        "  list[count]=int(input())\n",
        "  if (list[count]%2==1):\n",
        "    sum+=list[count]\n",
        "\n",
        "print(\"Total is\", sum , \"and Average is\" , (sum/10))\n"
      ]
    },
    {
      "cell_type": "markdown",
      "metadata": {
        "id": "cGdMk_vuSK5s"
      },
      "source": [
        "### Task 9\n",
        "Write a Python code for the following:\n",
        "* Ask the user to enter a Number, N\n",
        "* Display the summation of multiples of 7 up to that number (**from 1 to N inclusive**)\n",
        "\n",
        "==========================================================\n",
        "\n",
        "**Example01:** \n",
        "\n",
        "**Input:**\\\n",
        "50\n",
        "\n",
        "**Output:**\\\n",
        "196\n",
        "\n",
        "**Explanation:**\\\n",
        "7 + 14 + 21 + 28 + 35 + 42 + 49 = 196\n",
        "\n",
        "==========================================================\n",
        "\n",
        "**Example02:** \n",
        "\n",
        "**Input:**\\\n",
        "75\n",
        "\n",
        "**Output:**\\\n",
        "385\n",
        "\n",
        "**Explanation:**\\\n",
        "7 + 14 + 21 + 28 + 35 + 42 + 49 + 56 + 63 + 70 = 385\n",
        "\n",
        "\n",
        "\n"
      ]
    },
    {
      "cell_type": "code",
      "execution_count": null,
      "metadata": {
        "id": "zLsrA8dSSK5t",
        "colab": {
          "base_uri": "https://localhost:8080/"
        },
        "outputId": "b41de7fd-f245-4ce5-eca8-3e8b9a7f8fc9"
      },
      "outputs": [
        {
          "output_type": "stream",
          "name": "stdout",
          "text": [
            "75\n",
            "385\n"
          ]
        }
      ],
      "source": [
        "sum = 0\n",
        "number = int (input())\n",
        "\n",
        "for count in range(7,number+1,7):\n",
        "  sum+=count\n",
        "\n",
        "print(sum)\n"
      ]
    },
    {
      "cell_type": "markdown",
      "metadata": {
        "id": "OZ9pVIvhSK5w"
      },
      "source": [
        "### Task 10\n",
        "Write a Python code that will read 10 numbers from the user, and then print the first number, the sum of the first 2 numbers, the sum of the first 3 numbers, and so on up to the sum of 10 numbers.\n",
        "\n",
        "==========================================================\n",
        "\n",
        "\n",
        "For example,\n",
        "\n",
        "The user enters 10, output 10, then \\\n",
        "The user enters 2, (10+2) = 12, output 12, then \\\n",
        "The user enters 4, (10+2+4) = 16, output 16, then \\\n",
        "The user enters 20, (10+2+4+20) = 36, output 36, and continues till the 10$^{th}$ input\n"
      ]
    },
    {
      "cell_type": "code",
      "execution_count": null,
      "metadata": {
        "id": "FCwYrfGGSK5w",
        "colab": {
          "base_uri": "https://localhost:8080/"
        },
        "outputId": "ca3fadcb-c57d-4f99-9442-e93dee4b86ae"
      },
      "outputs": [
        {
          "output_type": "stream",
          "name": "stdout",
          "text": [
            "1\n",
            "2\n",
            "Sum: 1\n",
            "Sum: 3\n",
            "3\n",
            "Sum: 6\n",
            "4\n",
            "Sum: 10\n",
            "5\n",
            "Sum: 15\n",
            "6\n",
            "Sum: 21\n",
            "7\n",
            "Sum: 28\n",
            "8\n",
            "Sum: 36\n",
            "9\n",
            "Sum: 45\n",
            "10\n",
            "Sum: 55\n"
          ]
        }
      ],
      "source": [
        "sum = 0\n",
        "\n",
        "for count in range(10):\n",
        "  number = int(input())\n",
        "  sum+=number\n",
        "  print(\"Sum:\",sum)\n"
      ]
    },
    {
      "cell_type": "markdown",
      "metadata": {
        "id": "dUsVuzILSK50"
      },
      "source": [
        "### Task 11\n",
        "Write a Python program that takes a number from the user and prints its digits from left to right. <font color='red'> (left to right) </font>\n",
        "\n",
        "<font color='red'>[The input number has to be an INTEGER]</font>\n",
        "\n",
        "=========================================================================\n",
        "\n",
        "**Example:** if the user gives 32768, then print 3, 2, 7, 6, 8 \n",
        "\n",
        "=========================================================================\n",
        "\n",
        "**Hint:**  The input() function, converts the input data to String data type by default. Use this knowledge to solve this problem.\n"
      ]
    },
    {
      "cell_type": "code",
      "execution_count": null,
      "metadata": {
        "id": "6uX3wr_gSK51",
        "scrolled": true,
        "colab": {
          "base_uri": "https://localhost:8080/"
        },
        "outputId": "96915c78-8c39-48fc-f574-eb48962af194"
      },
      "outputs": [
        {
          "output_type": "stream",
          "name": "stdout",
          "text": [
            "32768\n",
            "3,2,7,6,8\n"
          ]
        }
      ],
      "source": [
        "number = input()\n",
        "\n",
        "for count in range(len(number)):\n",
        "  if count == len(number)-1:\n",
        "    print(number[count])\n",
        "  else:\n",
        "    print(number[count], end=\",\")"
      ]
    },
    {
      "cell_type": "markdown",
      "metadata": {
        "id": "xWxrM53vvfUV"
      },
      "source": [
        "\n",
        "\n",
        "\n",
        "### Task 12\n",
        "Write a Python program which takes a number and prints the digits from the unit place, then the tenth, then hundredth, etc. <font color='red'>(Right to Left)</font>\n",
        "\n",
        "<font color='red'>[Consider the input number to be an INTEGER]</font>\n",
        "\n",
        "**Example:** If the user gives 32768, then print 8, 6, 7, 2, 3 \n",
        "\n",
        "=========================================================================\n",
        "\n",
        "**Hint:**  The input() function, converts the input data to String data type by default. Use this knowledge to solve this problem.\n",
        "\n"
      ]
    },
    {
      "cell_type": "code",
      "execution_count": null,
      "metadata": {
        "id": "2Ntfdr2tv230",
        "colab": {
          "base_uri": "https://localhost:8080/"
        },
        "outputId": "f66a8f0f-d682-480d-fd6c-f5c293eab9b1"
      },
      "outputs": [
        {
          "output_type": "stream",
          "name": "stdout",
          "text": [
            "32768\n",
            "8,6,7,2,3\n"
          ]
        }
      ],
      "source": [
        "number = input()\n",
        "\n",
        "for count in range(len(number)-1,-1,-1):\n",
        "  if count == 0:\n",
        "    print(number[count])\n",
        "  else:\n",
        "    print(number[count], end=\",\")"
      ]
    },
    {
      "cell_type": "markdown",
      "metadata": {
        "id": "VIeR6DT9SK53"
      },
      "source": [
        "### Task 13\n",
        "\n",
        "Write a Python program that takes a number and tells how many digits are in that number. \\\n",
        "<font color='red'>[Consider the input number has to be an INTEGER] </font>\n",
        "\n",
        "<font color='red'>You are not allowed to use len() function</font>\n",
        "\n",
        "**Example:** If the user gives 9876, you should print 4. \n",
        "\n",
        "\n",
        "\n",
        "**Hint:** Keep floor dividing by ten and count how many times this could be divided. \n",
        "\n",
        "9876 floor divide by 10, is 987, count that got 1 digit (total 1) \\\n",
        "987 floor divide by 10, is 98, count that got 1 digit (total 2) \\\n",
        "98 floor divide by 10, is 9, count that got 1 digit (total 3) \\\n",
        "9 floor divide by 10, is 0, count that got 1 digit (total 4) \n",
        "\n",
        "Done! (When the number becomes 0 your loop should end.)\n",
        "\n"
      ]
    },
    {
      "cell_type": "code",
      "execution_count": null,
      "metadata": {
        "id": "IgqcBx8eSK54",
        "colab": {
          "base_uri": "https://localhost:8080/"
        },
        "outputId": "f18e4c96-a9ee-4207-86a3-610c66e3e67c"
      },
      "outputs": [
        {
          "output_type": "stream",
          "name": "stdout",
          "text": [
            "234\n",
            "3\n"
          ]
        }
      ],
      "source": [
        "number = int(input())\n",
        "digit = 0\n",
        "\n",
        "while (number >0):\n",
        "  number=number//10\n",
        "  digit+=1\n",
        "\n",
        "print(digit)\n",
        "\n"
      ]
    },
    {
      "cell_type": "markdown",
      "metadata": {
        "id": "fTbwwo3mSK6A"
      },
      "source": [
        "### Task 14\n",
        "\n",
        "Write a Python program that takes a number from the user and prints the divisors of that number and then print how many divisors were there.\n",
        "<font color='red'>[The input number has to be an INTEGER]</font>\n",
        "\n",
        "==========================================================\n",
        "\n",
        "**Example01:** \n",
        "\n",
        "**Input:**\\\n",
        "6\n",
        "\n",
        "**Output:**\\\n",
        "1, 2, 3, 6 \\\n",
        "Total 4 divisors.\n",
        "\n",
        "\n",
        "==========================================================\n",
        "\n",
        "**Example02:** \n",
        "\n",
        "**Input:**\\\n",
        "121\n",
        "\n",
        "**Output:**\\\n",
        "1, 11, 121 \\\n",
        "Total 3 divisors.\n",
        "\n",
        "\n"
      ]
    },
    {
      "cell_type": "code",
      "execution_count": null,
      "metadata": {
        "id": "aFSd6sYXSK6A",
        "colab": {
          "base_uri": "https://localhost:8080/"
        },
        "outputId": "49914764-cfc8-43c4-f044-4d013d329fd6"
      },
      "outputs": [
        {
          "output_type": "stream",
          "name": "stdout",
          "text": [
            "45\n",
            "1,3,5,9,15,45\n",
            "Total 6 divisors\n"
          ]
        }
      ],
      "source": [
        "number = int(input())\n",
        "check = 0\n",
        "\n",
        "for count in range(1,number+1,1):\n",
        "  if (number%count==0):\n",
        "    if count == number:\n",
        "      print(count)\n",
        "    else:\n",
        "      print (count, end=\",\")\n",
        "    check+=1\n",
        "\n",
        "print(\"Total\", check, \"divisors\")\n",
        "  "
      ]
    },
    {
      "cell_type": "markdown",
      "metadata": {
        "id": "swvpit_vSK6E"
      },
      "source": [
        "### Task 15\n",
        "Write a Python program that takes a number and tells if it is a perfect number or not. <font color='red'>[The input number has to be an INTEGER]</font>\n",
        "\n",
        "**Perfect Number:** An integer number is said to be a perfect number if its factors, including 1 but not the number itself, sum to the number.\n",
        "\n",
        "==========================================================\n",
        "\n",
        "**Example01:** \n",
        "\n",
        "**Input:**\\\n",
        "6\n",
        "\n",
        "**Output:**\\\n",
        "6 is a perfect number\n",
        "\n",
        "**Explanation:**\\\n",
        "6 have 4 divisors: 1, 2, 3, and 6. \\\n",
        "If we add all factors except itself, 6 = 1 + 2 + 3.\n",
        "\n",
        "==========================================================\n",
        "\n",
        "\n",
        "**Example02:** \n",
        "\n",
        "**Input:**\\\n",
        "28\n",
        "\n",
        "**Output:**\\\n",
        "28 is a perfect number\n",
        "\n",
        "**Explanation:**\\\n",
        "28 have 6 divisors: 1, 2, 4, 7, 14, and 28. \\\n",
        "If we add all factors except itself, 28 = 1 + 2 + 4 + 7 + 14.\n",
        "\n",
        "==========================================================\n",
        "\n",
        "**Example03:** \n",
        "\n",
        "**Input:**\\\n",
        "33\n",
        "\n",
        "**Output:**\\\n",
        "33 is not a perfect number\n",
        "\n",
        "**Explanation:**\\\n",
        "33 have 3 divisors: 1, 3, 11, and 33. \\\n",
        "If we add all factors except itself, 15 = 1 + 3 + 11.\n",
        "\n"
      ]
    },
    {
      "cell_type": "code",
      "execution_count": null,
      "metadata": {
        "id": "WxrTdQ67SK6E",
        "colab": {
          "base_uri": "https://localhost:8080/"
        },
        "outputId": "e1ad381f-81a0-48fb-84d1-00e2d682e60d"
      },
      "outputs": [
        {
          "output_type": "stream",
          "name": "stdout",
          "text": [
            "33\n",
            "33 is not a perfect number\n"
          ]
        }
      ],
      "source": [
        "number = int(input())\n",
        "sum = 0\n",
        "\n",
        "for count in range(1,number,1):\n",
        "  if (number%count==0):\n",
        "    sum+=count\n",
        "\n",
        "if sum == number:\n",
        "  print(number, \"is a perfect number\")\n",
        "else:\n",
        "  print(number, \"is not a perfect number\")\n",
        "  "
      ]
    },
    {
      "cell_type": "markdown",
      "metadata": {
        "id": "JunF6mTuSK6H"
      },
      "source": [
        "### Task 16\n",
        "\n",
        "Write a Python program that asks the user for one number and tells if it is a prime number or not. <font color='red'>[The input number has to be an INTEGER]</font>\n",
        "\n",
        "**Prime Number:** If a number has only two divisors, (1 and itself), then it is prime. If it is divisible by more numbers, then it is not a prime.\n",
        "\n",
        "==========================================================\n",
        "\n",
        "**Hint:** use the divisor count from task 16. \n",
        "\n",
        "==========================================================\n",
        "\n",
        "**Example01:** \n",
        "\n",
        "**Input:**\\\n",
        "11\n",
        "\n",
        "**Output:**\\\n",
        "11 is a prime number\n",
        "\n",
        "**Explanation:**\\\n",
        "11 has only 2 divisors: 1, and 11.\n",
        "\n",
        "==========================================================\n",
        "\n",
        "**Example02:** \n",
        "\n",
        "**Input:**\\\n",
        "6\n",
        "\n",
        "**Output:**\\\n",
        "6 is not a prime number\n",
        "\n",
        "**Explanation:**\\\n",
        "6 have 4 divisors: 1, 2, 3 and 6.\n",
        "\n",
        "\n",
        "\n",
        "\n"
      ]
    },
    {
      "cell_type": "code",
      "execution_count": null,
      "metadata": {
        "id": "s_UhmEARSK6I",
        "colab": {
          "base_uri": "https://localhost:8080/"
        },
        "outputId": "b3638813-aa8c-4f5c-f1ee-39ba2bc5172c"
      },
      "outputs": [
        {
          "output_type": "stream",
          "name": "stdout",
          "text": [
            "6\n",
            "6 is not a prime number\n"
          ]
        }
      ],
      "source": [
        "number = int(input())\n",
        "check = 0\n",
        "\n",
        "for count in range(1,number,1):\n",
        "  if (number%count==0):\n",
        "    check+=1\n",
        "\n",
        "if check <=2:\n",
        "  print(number, \"is a prime number\")\n",
        "else:\n",
        "  print(number, \"is not a prime number\")\n",
        "  \n"
      ]
    },
    {
      "cell_type": "markdown",
      "metadata": {
        "id": "2LrNlU1XSK6L"
      },
      "source": [
        "### Task 17\n",
        "\n",
        "Write a Python program that asks the user for a quantity then takes that many numbers and prints the maximum, minimum and average of those numbers. \n",
        "\n",
        "**<font color='red'>[CANNOT USE MAX,MIN BUILT-IN FUNCTIONS][FOR THIS TASK YOU DO NOT NEED TO USE LISTS]</font>** \n",
        "\n",
        "==========================================================\n",
        "\n",
        "**Example01:** If the user enters 5 as an input for quantity. Then enters 10, 4, -1, -100, and 1. \\\n",
        "Your program output should be: “Maximum 10”, “Minimum -100”, “Average is -17.2”\n",
        "\n",
        "**Input:**\\\n",
        "5\n",
        "10\n",
        "4\n",
        "-1\n",
        "-100\n",
        "1.\n",
        "\n",
        "**Output:**\\\n",
        "Maximum 10\\\n",
        "Minimum -100\\\n",
        "Average is -17.2\n",
        "\n",
        "**Explanation:**\\\n",
        "Average calculation: (10+4 + (-1) + (-100) + 1)/5 = -86/5=-17.2\n",
        "\n"
      ]
    },
    {
      "cell_type": "code",
      "execution_count": null,
      "metadata": {
        "id": "TK68v25sSK6L",
        "colab": {
          "base_uri": "https://localhost:8080/"
        },
        "outputId": "0dd37a57-251d-45df-baee-9cec1b0d9edd"
      },
      "outputs": [
        {
          "output_type": "stream",
          "name": "stdout",
          "text": [
            "5\n",
            "10\n",
            "4\n",
            "-1\n",
            "-100\n",
            "1\n",
            "Maximum 10\n",
            "Minimum -100\n",
            "Average is -17.2\n"
          ]
        }
      ],
      "source": [
        "list_size = int(input())\n",
        "\n",
        "list=[0]*list_size\n",
        "sum=0\n",
        "\n",
        "for count in range(list_size):\n",
        "  list[count] = int (input())\n",
        "  sum+=list[count]\n",
        "\n",
        "maximun = list [0]\n",
        "minimum = list [0]\n",
        "\n",
        "\n",
        "for count in range(list_size-1):\n",
        "  if list[count+1] > list[count]:\n",
        "    maximum = list [count+1]\n",
        "  if list[count+1] < list[count]:\n",
        "    minimum = list[count+1]\n",
        "\n",
        "print(\"Maximum\", maximun)\n",
        "print(\"Minimum\", minimum)\n",
        "print(\"Average is\", (sum/5))\n"
      ]
    },
    {
      "cell_type": "markdown",
      "metadata": {
        "id": "QLXvNSiOxhlI"
      },
      "source": [
        "## Task 18\n",
        "\n",
        "Write a python program that prints a square of size N using + where N will be given as input.\n",
        "\n",
        "=======================================\n",
        "\n",
        "**Sample Input**\n",
        "5\n",
        "\n",
        "**Sample Output**<br>\n",
        "+++++<br>\n",
        "+++++<br>\n",
        "+++++<br>\n",
        "+++++<br>\n",
        "+++++<br>\n",
        "\n",
        "\n",
        "=======================================\n",
        "\n",
        "**Sample Input**\n",
        "3\n",
        "\n",
        "**Sample Output**<br>\n",
        "+++<br>\n",
        "+++<br>\n",
        "+++<br>"
      ]
    },
    {
      "cell_type": "code",
      "execution_count": null,
      "metadata": {
        "id": "nuU0BJmQwsSa",
        "colab": {
          "base_uri": "https://localhost:8080/"
        },
        "outputId": "29ae3787-2154-430d-ef5b-c189fce6d641"
      },
      "outputs": [
        {
          "output_type": "stream",
          "name": "stdout",
          "text": [
            "3\n",
            "+++\n",
            "+++\n",
            "+++\n"
          ]
        }
      ],
      "source": [
        "number = int(input())\n",
        "\n",
        "for count in range(number):\n",
        "  for count in range(number):\n",
        "    print(\"+\" , end=\"\")\n",
        "  print()"
      ]
    },
    {
      "cell_type": "markdown",
      "metadata": {
        "id": "9tK1-MjFwqM-"
      },
      "source": [
        "### Task 19\n",
        "\n",
        "Write a python program that prints a rectangle of size M (height/line numbers) and N(length/column numbers) using incrementing numbers where M,N will be given as input.\n",
        "\n",
        "===================================\n",
        "\n",
        "**Sample Input**\n",
        "4,6\n",
        "\n",
        "**Sample Output**<br>\n",
        "123456<br>\n",
        "123456<br>\n",
        "123456<br>\n",
        "123456<br>\n",
        "\n",
        "\n",
        "===================================\n",
        "\n",
        "\n",
        "**Sample Input**\n",
        "3,2\n",
        "\n",
        "**Sample Output**<br>\n",
        "12<br>\n",
        "12<br>\n",
        "12<br>\n"
      ]
    },
    {
      "cell_type": "code",
      "execution_count": null,
      "metadata": {
        "id": "KcyhD8gNxYdi",
        "colab": {
          "base_uri": "https://localhost:8080/"
        },
        "outputId": "d126f696-b43a-4a67-93e7-6a3997da84b7"
      },
      "outputs": [
        {
          "output_type": "stream",
          "name": "stdout",
          "text": [
            "3\n",
            "2\n",
            "12\n",
            "12\n",
            "12\n"
          ]
        }
      ],
      "source": [
        "row = int(input())\n",
        "columb = int(input())\n",
        "\n",
        "for count in range(1,row+1):\n",
        "  for count in range(1,columb+1):\n",
        "    print(count, end=\"\")\n",
        "  print()\n",
        "  \n"
      ]
    },
    {
      "cell_type": "markdown",
      "metadata": {
        "id": "ReUpRcLuw0_b"
      },
      "source": [
        "### Task 20\n",
        "\n",
        "Write a python program that prints a right angled triangle of height N using incrementing numbers where N will be given as input.\n",
        "\n",
        "====================================\n",
        "\n",
        "**Sample Input**\n",
        "4\n",
        "\n",
        "**Sample Output**<br>\n",
        "1<br>\n",
        "12<br>\n",
        "123<br>\n",
        "1234<br>\n",
        "\n",
        "====================================\n",
        "\n",
        "**Sample Input**\n",
        "5\n",
        "\n",
        "**Sample Output**<br>\n",
        "1<br>\n",
        "12<br>\n",
        "123<br>\n",
        "1234<br>\n",
        "12345<br>"
      ]
    },
    {
      "cell_type": "code",
      "execution_count": null,
      "metadata": {
        "id": "UtqBxocnxai9",
        "colab": {
          "base_uri": "https://localhost:8080/"
        },
        "outputId": "851654b5-3372-4e29-bd0a-ab1d46e8a325"
      },
      "outputs": [
        {
          "output_type": "stream",
          "name": "stdout",
          "text": [
            "5\n",
            "1\n",
            "12\n",
            "123\n",
            "1234\n",
            "12345\n"
          ]
        }
      ],
      "source": [
        "number = int(input())\n",
        "change = 2\n",
        "\n",
        "for count in range(1,number+1):\n",
        "  for count in range(1,change,1):\n",
        "    if change == number+2:\n",
        "      break\n",
        "    print(count, end=\"\")\n",
        "  change+=1\n",
        "  print()\n",
        "  "
      ]
    },
    {
      "cell_type": "markdown",
      "metadata": {
        "id": "AWbbbs5mSK6O"
      },
      "source": [
        "## Optional Tasks (21 -26) [Ungraded]"
      ]
    },
    {
      "cell_type": "markdown",
      "metadata": {
        "id": "a0SjEWlsw6Vt"
      },
      "source": [
        "### Task 21\n",
        "\n",
        "Write a python program that prints all the fibonacci number from 0 to N where N will be given. \n",
        "\n",
        "**A Fibonacci number is a number which is the summation of its previous two fibonacci number.**\n",
        "\n",
        "First two fibonacci number are 0 and 1. So the 3rd Fib will be 0+1=1, 4th Fib will be 1+1=2, 5th Fib will be 1+2=3 and so on.\n",
        "\n",
        "==============================\n",
        "\n",
        "**Sample Input**<br>\n",
        "10\n",
        "\n",
        "**Sample Output**<br>\n",
        "0 1 1 2 3 5 8\n",
        "\n",
        "==============================\n",
        "\n",
        "\n",
        "**Sample Input**<br>\n",
        "15\n",
        "\n",
        "**Sample Output**<br>\n",
        "0 1 1 2 3 5 8 13"
      ]
    },
    {
      "cell_type": "code",
      "execution_count": null,
      "metadata": {
        "id": "vQhQFFBWx-h0",
        "colab": {
          "base_uri": "https://localhost:8080/"
        },
        "outputId": "1c8a76e7-1b35-40cd-9471-aa783abe24ea"
      },
      "outputs": [
        {
          "output_type": "stream",
          "name": "stdout",
          "text": [
            "15\n",
            "0 1 1 2 3 5 8 13 "
          ]
        }
      ],
      "source": [
        "number = int(input())\n",
        "\n",
        "number1 = 0\n",
        "number2 = 1\n",
        "print(number1, end=\" \")\n",
        "print(number2, end=\" \")\n",
        "temp = 0\n",
        "\n",
        "while number2<=number:\n",
        "  temp=number2\n",
        "  number2 = number1 + number2\n",
        "  number1=temp\n",
        "  if (number2<=number):\n",
        "    print(number2, end=\" \")\n"
      ]
    },
    {
      "cell_type": "markdown",
      "metadata": {
        "id": "bByH1fWsw7av"
      },
      "source": [
        "### Task 22\n",
        "\n",
        "Write a python program that converts a Decimal Integer number to a Binary Number. \n",
        "\n",
        "**A decimal can be converted to a binary number by keeping track of the remainders after each division of that number by 2. **\n",
        "\n",
        "================================\n",
        "\n",
        "For example, to convert 10 to a binary number, we can follow the following approach\n",
        "\n",
        "10/2 = 5 (Remainder 0) \n",
        "<br>5/2 = 2 (Remainder 1) \n",
        "<br>2/2 = 1 (Remainder 0) \n",
        "<br>1/2 = 0 (Remainder 1) \n",
        "\n",
        "Take the remainders from bottom to top, which is, 1010. Binary of 10 is 1010.\n",
        "\n",
        "**Sample Input** <br>\n",
        "10\n",
        "\n",
        "**Sample Output**<br>\n",
        "1010\n",
        "\n",
        "================================\n",
        "\n",
        "For example, to convert 13 to a binary number, we can follow the following approach\n",
        "\n",
        "13/2 = 6 (Remainder 1) \n",
        "<br>6/2 = 3 (Remainder 0) \n",
        "<br>3/2 = 1 (Remainder 1) \n",
        "<br>1/2 = 0 (Remainder 1) \n",
        "\n",
        "Take the remainders from bottom to top, which is, 1101. Binary of 13 is 1101.\n",
        "\n",
        "**Sample Input** <br>\n",
        "13\n",
        "\n",
        "**Sample Output**<br>\n",
        "1101"
      ]
    },
    {
      "cell_type": "code",
      "execution_count": 83,
      "metadata": {
        "id": "AEXGx3skyBha",
        "colab": {
          "base_uri": "https://localhost:8080/"
        },
        "outputId": "746a0c47-fa8f-41ca-e57b-d96e16bdf7d5"
      },
      "outputs": [
        {
          "output_type": "stream",
          "name": "stdout",
          "text": [
            "13\n",
            "1101"
          ]
        }
      ],
      "source": [
        "decimal = int(input())\n",
        "list = [0] * 4\n",
        "count = 0\n",
        "while (decimal > 0):\n",
        "  if decimal % 2 == 0:\n",
        "    list[count] = 0\n",
        "  \n",
        "  else:\n",
        "    list [count] = 1\n",
        "  count+=1\n",
        "  decimal = int(decimal/2)\n",
        "  \n",
        "for index in range(len(list)-1,-1,-1):\n",
        "  print(list[index],end=\"\")\n",
        "  \n"
      ]
    },
    {
      "cell_type": "markdown",
      "metadata": {
        "id": "g_aR1Ozgw_rr"
      },
      "source": [
        "### Task 23\n",
        "\n",
        "Write a python program that converts a Binary number to a Decimal Integer Number. \n",
        "\n",
        "**A binary number can be converted to its corresponding decimal number by multiplying each binary digit with a power of 2 where the power denotes the position of the binary digit**\n",
        "\n",
        "========================================\n",
        "\n",
        "For example, to convert 1010, we can do this -\n",
        "\n",
        "\n",
        "$2^{3}$ x 1 + $2^{2}$ x 0 + $2^{1}$ x 1 + $2^{0}$ x 0 = 10\n",
        "\n",
        "\n",
        "**Sample Input** <br>\n",
        "1010\n",
        "\n",
        "**Sample Output** <br>\n",
        "10\n",
        "\n",
        "========================================\n",
        "\n",
        "For example, to convert 1101, we can do this -\n",
        "\n",
        "\n",
        "$2^{3}$ x 1 + $2^{2}$ x 1 + $2^{1}$ x 0 + $2^{0}$ x 1 = 13\n",
        "\n",
        "\n",
        "**Sample Input** <br>\n",
        "1101\n",
        "\n",
        "**Sample Output** <br>\n",
        "13"
      ]
    },
    {
      "cell_type": "code",
      "execution_count": 69,
      "metadata": {
        "id": "ZZmhMI6VyCky",
        "colab": {
          "base_uri": "https://localhost:8080/"
        },
        "outputId": "95b82d44-f5fe-42bd-a93e-4d2cc4962e26"
      },
      "outputs": [
        {
          "output_type": "stream",
          "name": "stdout",
          "text": [
            "1101\n",
            "13\n"
          ]
        }
      ],
      "source": [
        "binary = input()\n",
        "check = len(binary)-1\n",
        "number = 0\n",
        "\n",
        "\n",
        "for binary_count in binary:\n",
        "  number = number + ((2 ** check) * int(binary_count) )\n",
        "  check -= 1\n",
        "\n",
        "print(number) \n",
        "\n"
      ]
    },
    {
      "cell_type": "markdown",
      "metadata": {
        "id": "GymIX5_vSK6Q"
      },
      "source": [
        "### Task 24\n",
        "\n",
        "Take five numbers from the user and find the minimum and the average of **only the even** numbers entered by the user. [If the user enters odd numbers ignore them] \n",
        "\n",
        "**<font color='red'>[CANNOT USE MAX,MIN BUILT-IN FUNCTIONS] [FOR THIS TASK YOU DO NOT NEED TO USE LISTS]</font>** \n",
        "\n",
        "Assume, the first input is always an even number.\n",
        "\n",
        "============================================================\n",
        "\n",
        "**Example01:** If the user enters 10, 4, -1, -100, and 1. \\\n",
        "Output: “Minimum -100”, “Average is 28.66667”\n",
        "\n",
        "**Input:**\\\n",
        "10\n",
        "\n",
        "4\n",
        "\n",
        "-1\n",
        "\n",
        "-100\n",
        "\n",
        "1\n",
        "\n",
        "**Output:**\\\n",
        "Minimum -100\\\n",
        "Average is 28.66667\n",
        "\n",
        "**Explanation:**\\\n",
        "Average calculation: (10+4 + (-100))/3 = -86/3=-28.66667\n",
        "\n",
        "============================================================\n",
        "\n",
        "**Example02:** If the user enters 2, 10, 1, 21, and 3. \\\n",
        "Output: Minimum 2”, “Average is 6.0”\n",
        "\n",
        "**Input:**\\\n",
        "2\n",
        "\n",
        "10\n",
        "\n",
        "1\n",
        "\n",
        "21\n",
        "\n",
        "3\n",
        "\n",
        "**Output:**\\\n",
        "Minimum 2\\\n",
        "Average is 6.0\n",
        "\n",
        "**Explanation:**\\\n",
        "Average calculation: (2+10)/2 = 12/2= 6\n",
        "\n",
        "\n",
        "\n"
      ]
    },
    {
      "cell_type": "code",
      "execution_count": 41,
      "metadata": {
        "id": "CnrBzeq1SK6R",
        "colab": {
          "base_uri": "https://localhost:8080/"
        },
        "outputId": "7389c0d1-ec1e-4f5e-f145-032414dbbeec"
      },
      "outputs": [
        {
          "output_type": "stream",
          "name": "stdout",
          "text": [
            "2\n",
            "10\n",
            "1\n",
            "21\n",
            "3\n",
            "Minimum 2\n",
            "Average is 6.0\n"
          ]
        }
      ],
      "source": [
        "minimum = 99999999999999999\n",
        "sum = 0\n",
        "check = 0\n",
        "\n",
        "for count in range(5):\n",
        "  \n",
        "  number = float (input())\n",
        "  \n",
        "  if (number % 2) == 0:\n",
        "  \n",
        "    if number < minimum:\n",
        "      minimum = number\n",
        "    check += 1  \n",
        "    sum += number\n",
        "\n",
        "print(\"Minimum\", int(minimum))\n",
        "print(\"Average is\", (sum/check))\n"
      ]
    },
    {
      "cell_type": "markdown",
      "metadata": {
        "id": "F2iSIEcHSK6U"
      },
      "source": [
        "### Task 25\n",
        "\n",
        "Write a Python code for the following:\n",
        "* Ask the user to enter a number, N (Total number of inputs to be taken). Assume that the user will never enter the first number as zero.\n",
        "* Take N number of inputs\n",
        "* Prints out the product of all the numbers read\n",
        "\n",
        "For example, if the first input is 4, then the program has to read in four numbers from the user and print the product of these four numbers. \n",
        "\n",
        "=========================================================================\n",
        "\n",
        "**Example01:**\n",
        "\n",
        "**Input:**\\\n",
        "5 \n",
        "\n",
        "10 \n",
        "\n",
        "6 \n",
        "\n",
        "4 \n",
        "\n",
        "2 \n",
        "\n",
        "1 \n",
        "\n",
        "**Output:**\\\n",
        "480\n",
        "\n",
        "**Explanation:**\\\n",
        "5 is the total number of inputs taken. Then, the calculation should be 10 X 6 X 4 X 2 X 1 = 480 \n",
        "\n",
        "\n",
        "\n",
        "\n",
        "\n"
      ]
    },
    {
      "cell_type": "code",
      "execution_count": 34,
      "metadata": {
        "id": "NFDi7tjZSK6U",
        "colab": {
          "base_uri": "https://localhost:8080/"
        },
        "outputId": "cb5bffa2-e180-47cb-a69c-3442f6bfc05d"
      },
      "outputs": [
        {
          "output_type": "stream",
          "name": "stdout",
          "text": [
            "5\n",
            "1\n",
            "2\n",
            "3\n",
            "4\n",
            "5\n",
            "120\n"
          ]
        }
      ],
      "source": [
        "count = int( input () )\n",
        "\n",
        "product = 1\n",
        "\n",
        "for check in range(count):\n",
        "  number = float (input())\n",
        "  product *= number\n",
        "\n",
        "print (int(product))"
      ]
    },
    {
      "cell_type": "markdown",
      "metadata": {
        "id": "1Ef3zxQsSK6Y"
      },
      "source": [
        "### Task 26\n",
        "Ask the user for a range (a starting number and an ending number). \n",
        "**Count** how many numbers are prime numbers and how many numbers are perfect numbers between that range and **print** those numbers. \n",
        "\n",
        "\n",
        "=========================================================================\n",
        "\n",
        "**Hint (1):** Declare two strings/lists to store the prime and perfect numbers. Inside the iteration store the values of the prime and perfect numbers in the pre- declared variables.\n",
        "\n",
        "**Hint (2):**\n",
        "\n",
        "\n",
        "ans = \"Prime numbers: \"\\\n",
        "prime_value = 11\n",
        "ans = ans + str(prime_value) + \" \"\\\n",
        "print(ans)\n",
        "\n",
        "ans = ans + str(13) + \" \"\\\n",
        "print(ans)\n",
        "\n",
        "*Output:*\n",
        "\n",
        "Prime numbers: 11 \\\n",
        "Prime numbers: 11 13 \n",
        "\n",
        "=========================================================================\n",
        "\n",
        "**Example:**between 2 and 6, there are 3 prime numbers (2, 3, 5) and 1 perfect number (6). \n",
        "\n",
        "**Input:**\\\n",
        "2\n",
        "\n",
        "6\n",
        "\n",
        "**Output:**\\\n",
        "Between 2 and 6,\\\n",
        "Found 3 prime numbers \\\n",
        "Found 1 perfect number\\\n",
        "Prime numbers: 2  3  5 \\\n",
        "Perfect numbers: 6 \n",
        "\n"
      ]
    },
    {
      "cell_type": "code",
      "execution_count": 30,
      "metadata": {
        "id": "_YU9xdPBSK6Y",
        "colab": {
          "base_uri": "https://localhost:8080/"
        },
        "outputId": "6b32a3f0-f5d9-4173-dde3-a2c19d0174a4"
      },
      "outputs": [
        {
          "output_type": "stream",
          "name": "stdout",
          "text": [
            "2\n",
            "6\n",
            "Prime number: 2\n",
            "Prime number: 3\n",
            "Prime number: 5\n",
            "Perfect number: 6\n",
            "Prime Count: 3\n",
            "Perfect_count: 1\n"
          ]
        }
      ],
      "source": [
        "start = int (input())\n",
        "end = int (input())\n",
        "prime_check = 0\n",
        "prime_count = 0 \n",
        "perfect_sum = 0\n",
        "perfect_count = 0 \n",
        "\n",
        "for count in range(start,end+1,1):\n",
        "  prime_check = 0\n",
        "  for check in range(1,count+1):\n",
        "    if (count % check == 0):\n",
        "      prime_check+=1\n",
        "\n",
        "  if (prime_check == 2):\n",
        "    print(\"Prime number:\", count)\n",
        "    prime_count+=1\n",
        "\n",
        "for count in range(start,end+1):\n",
        "  perfect_sum = 0\n",
        "  for check in range(1,count):\n",
        "    if (count % check == 0):\n",
        "      \n",
        "      perfect_sum += check\n",
        "  \n",
        "  if perfect_sum == count:\n",
        "    print(\"Perfect number:\", count)\n",
        "    perfect_count += 1\n",
        "\n",
        "print(\"Prime Count:\", prime_count)\n",
        "print(\"Perfect_count:\", perfect_count) \n",
        "      \n",
        "  \n"
      ]
    }
  ],
  "metadata": {
    "colab": {
      "collapsed_sections": [],
      "name": "CSE110 Lab Assignment 2.ipynb",
      "provenance": []
    },
    "kernelspec": {
      "display_name": "Python 3 (ipykernel)",
      "language": "python",
      "name": "python3"
    },
    "language_info": {
      "codemirror_mode": {
        "name": "ipython",
        "version": 3
      },
      "file_extension": ".py",
      "mimetype": "text/x-python",
      "name": "python",
      "nbconvert_exporter": "python",
      "pygments_lexer": "ipython3",
      "version": "3.9.2"
    }
  },
  "nbformat": 4,
  "nbformat_minor": 0
}